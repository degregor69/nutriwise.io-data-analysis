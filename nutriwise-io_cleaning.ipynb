{
 "cells": [
  {
   "cell_type": "markdown",
   "id": "bc28cd1a-f392-4c6f-b507-9b59ecd3adf3",
   "metadata": {
    "tags": []
   },
   "source": [
    "# ***NUTRIWISE.io***\n",
    "#### *Trouve les meilleurs ingrédients pour le plat que tu veux manger !*\n",
    "***\n",
    "## Problématique\n",
    "Après une réflexion intense, j'ai enfin choisi ! Ce soir, ce sera spaghetti à la bolognaise.\\\n",
    "Arrivé devant le rayon : difficile ! Un éventail large de pâtes et sauces...\\\n",
    "Mais quels ingrédients sont les meilleurs pour ma santé ? L'environnement ?\\\n",
    "Je n'ai pas envie de scanner chaque code-barre, il me faut quelque chose qui me dise instantanément quoi prendre !\\\n",
    "La solution : **NUTRIWISE.io**\n",
    "\n",
    "## Données\n",
    "### Source\n",
    "Nous utiliserons ici le jeu de données `en.openfoodfacts.org.products.csv` fourni par OpenFoodFacts.\n",
    "\n",
    "### Variables utilisées\n",
    "\n",
    "Après exploration des données ***NUTRIWISE.io*** va utiliser les données suivantes :`['code',  'product_name', 'categories_tags', 'pnns_groups_2','countries_tags', 'manufacturing_places_tags', 'nutriscore_score', 'nutriscore_grade', 'ecoscore_score','ecoscore_grade', 'fiber_100g', 'proteins_100g','energy-kcal_100g','carbon-footprint_100g', 'sugars_100g', 'fat_100g', 'saturated-fat_100g', 'sodium_100g']`\n",
    "\n",
    "Le but va être de créer un score mêlant le nutriscore et l'ecoscore pour trouver l'ingrédient optimal.\n",
    "Lorsque le nutriscore est indisponible, nous allons essayer de le déterminer grâce aux teneurs en sucre, gras, gras saturé et sel.\n",
    "Lorsque l'ecoscore est indisponible, nous allons essayer de le déterminer grâce à l'empreinte carbone.\n",
    "\n",
    "\n",
    "## Lecture des données"
   ]
  },
  {
   "cell_type": "code",
   "execution_count": 1,
   "id": "6a3d30a8-95e1-411a-b799-58137f4a83c9",
   "metadata": {
    "tags": []
   },
   "outputs": [],
   "source": [
    "# Imports\n",
    "import pandas as pd\n",
    "import numpy as np\n",
    "import time\n",
    "import matplotlib.pyplot as plt\n",
    "import matplotlib.ticker as mtick"
   ]
  },
  {
   "cell_type": "code",
   "execution_count": 2,
   "id": "5fb2d974-d7b0-40bf-996f-1e68949e4f5b",
   "metadata": {
    "tags": []
   },
   "outputs": [
    {
     "name": "stderr",
     "output_type": "stream",
     "text": [
      "/tmp/ipykernel_10829/3227930724.py:14: DtypeWarning: Columns (0,25) have mixed types. Specify dtype option on import or set low_memory=False.\n",
      "  df= pd.read_csv('en.openfoodfacts.org.products.csv', sep='\\t', usecols=cols, low_memory=True)\n"
     ]
    },
    {
     "name": "stdout",
     "output_type": "stream",
     "text": [
      "Running time to read csv : 39.85 seconds\n"
     ]
    }
   ],
   "source": [
    "# Reading of the CSV file and creation of the DataFrame\n",
    "# nrows=1 # This value for the tests to improve the running time\n",
    "cols = ['code',  'product_name', 'categories_tags', 'pnns_groups_2','countries_tags', 'manufacturing_places_tags', \\\n",
    "        'nutriscore_score', 'nutriscore_grade', 'ecoscore_score','ecoscore_grade', \\\n",
    "        'fiber_100g', 'proteins_100g','energy-kcal_100g','carbon-footprint_100g', 'sugars_100g', 'fat_100g', 'saturated-fat_100g', 'sodium_100g']\n",
    "\n",
    "start_time = time.time()\n",
    "# # This line to run the reading on a nrows sample\n",
    "# df= pd.read_csv('en.openfoodfacts.org.products.csv', sep='\\t', low_memory=True, nrows=nrows)\n",
    "# for col in df.columns:\n",
    "#     print(col)\n",
    "\n",
    "#This line to run the reading on the entire CSV file\n",
    "df= pd.read_csv('en.openfoodfacts.org.products.csv', sep='\\t', usecols=cols, low_memory=True)\n",
    "\n",
    "end_time = time.time()\n",
    "print(f\"Running time to read csv : {end_time - start_time:.2f} seconds\")\n",
    "\n",
    "total_df_length = len(df)\n",
    "formatted_total_df_length = format(total_df_length, ',').replace(',', ' ')"
   ]
  },
  {
   "cell_type": "markdown",
   "id": "6f504307-dc4c-458a-a5c9-6dbe35b7ca98",
   "metadata": {},
   "source": [
    "## Nettoyage des données\n",
    "### Démarche\n",
    "#### Contrainte géographique\n",
    "\n",
    "Dans un premier temps, nous allons nous concentrer sur la France. Notre première étape sera donc de garder les ingrédients seulement vendus en France.\n",
    "Ensuite, nous enlèverons les doublons de cette base."
   ]
  },
  {
   "cell_type": "code",
   "execution_count": 3,
   "id": "89cf83de-a2d1-4d21-9241-f853229b380b",
   "metadata": {
    "tags": []
   },
   "outputs": [
    {
     "name": "stdout",
     "output_type": "stream",
     "text": [
      "6 lignes étaient des doublons parfaits.\n",
      "Au total, il y avait 2 841 812 lignes dans la base initiale. \n",
      "Après avoir gardé seulement les produits vendus en France, il y a 973 810, soit 34.27 % de la base initiale.\n"
     ]
    },
    {
     "data": {
      "image/png": "[encoded data removed]",
      "text/plain": [
       "<Figure size 640x480 with 1 Axes>"
      ]
     },
     "metadata": {},
     "output_type": "display_data"
    }
   ],
   "source": [
    "# Drop rows with the selling countries are not known\n",
    "df = df.dropna(subset=['countries_tags'])\n",
    "\n",
    "\n",
    "# Filter the rows with only countries_tags that contains 'france'\n",
    "france_df = df[df['countries_tags'].str.contains('france')]\n",
    "france_df = france_df[cols]\n",
    "france_df_length = len(france_df)\n",
    "formatted_france_df_length = format(france_df_length, ',').replace(',', ' ')\n",
    "france_df = france_df.drop_duplicates()\n",
    "france_df_uniques_length = len(france_df)\n",
    "france_df_backup = france_df\n",
    "print(f\"{france_df_length - france_df_uniques_length} lignes étaient des doublons parfaits.\")\n",
    "print(f\"Au total, il y avait {formatted_total_df_length} lignes dans la base initiale. \\nAprès avoir gardé seulement les produits vendus en France, il y a {formatted_france_df_length}, soit {round(france_df_length/total_df_length* 100,2)} % de la base initiale.\")\n",
    "\n",
    "# GRAPH\n",
    "values = [total_df_length, france_df_length]\n",
    "labels = [\"Nombre total de produits\", \"Nombre de produits fabriqués en France\"]\n",
    "fig, ax = plt.subplots()\n",
    "ax.bar(labels, values, color=['#8E8E8E', '#A9D4FF'])\n",
    "ax.set_ylabel('Nombre de produits')\n",
    "ax.set_title('Différence entre le total et les produits vendus en France')\n",
    "\n",
    "plt.show()"
   ]
  },
  {
   "cell_type": "markdown",
   "id": "d8d5ce2b-c4d8-49e4-b76f-335311f781b4",
   "metadata": {},
   "source": [
    "#### Erreurs lexicales"
   ]
  },
  {
   "cell_type": "code",
   "execution_count": 4,
   "id": "fc6cdc25-96b3-4c05-9c2e-b3ba3984562b",
   "metadata": {
    "tags": []
   },
   "outputs": [
    {
     "name": "stdout",
     "output_type": "stream",
     "text": [
      "code : object\n",
      "product_name : object\n",
      "categories_tags : object\n",
      "pnns_groups_2 : object\n",
      "countries_tags : object\n",
      "manufacturing_places_tags : object\n",
      "nutriscore_score : float64\n",
      "nutriscore_grade : object\n",
      "ecoscore_score : float64\n",
      "ecoscore_grade : object\n",
      "fiber_100g : float64\n",
      "proteins_100g : float64\n",
      "energy-kcal_100g : float64\n",
      "carbon-footprint_100g : float64\n",
      "sugars_100g : float64\n",
      "fat_100g : float64\n",
      "saturated-fat_100g : float64\n",
      "sodium_100g : float64\n",
      "\n",
      "On peut voir qu'il n'y a rien de particulier ici. Ceux qui doivent être des nombres sont des nombres, ceux qui doivent être du texte sont du texte.\n"
     ]
    }
   ],
   "source": [
    "# check if there are two different data types in each column\n",
    "for col in france_df.columns:\n",
    "    if france_df[col].nunique() > 1:\n",
    "        print(f\"{col} : {france_df[col].dtypes}\")\n",
    "        \n",
    "print(\"\\nOn peut voir qu'il n'y a rien de particulier ici. Ceux qui doivent être des nombres sont des nombres, ceux qui doivent être du texte sont du texte.\")"
   ]
  },
  {
   "cell_type": "markdown",
   "id": "9c201ee7-2372-42ae-b0de-0381dd365f88",
   "metadata": {},
   "source": [
    "#### Gestion des valeurs nulles\n",
    "##### Basiques"
   ]
  },
  {
   "cell_type": "code",
   "execution_count": 5,
   "id": "a2b4b10f-9497-4ff3-be91-323ab685c05d",
   "metadata": {
    "tags": []
   },
   "outputs": [
    {
     "name": "stdout",
     "output_type": "stream",
     "text": [
      "code                         100.000000\n",
      "product_name                  97.260024\n",
      "categories_tags               49.264226\n",
      "pnns_groups_2                 99.945369\n",
      "countries_tags               100.000000\n",
      "manufacturing_places_tags      8.754534\n",
      "nutriscore_score              37.406501\n",
      "nutriscore_grade              37.406501\n",
      "ecoscore_score                35.363893\n",
      "ecoscore_grade                99.900596\n",
      "fiber_100g                    23.241433\n",
      "proteins_100g                 76.592518\n",
      "energy-kcal_100g              74.697167\n",
      "carbon-footprint_100g          0.032861\n",
      "sugars_100g                   76.850475\n",
      "fat_100g                      76.403465\n",
      "saturated-fat_100g            76.890421\n",
      "sodium_100g                   72.491590\n",
      "dtype: float64\n",
      "La longueur du dataframe est maintenant de 947122\n"
     ]
    }
   ],
   "source": [
    "filled_pct = france_df.count() / len(france_df) * 100\n",
    "print(filled_pct)\n",
    "\n",
    "# Remove the lines which do not have product_name\n",
    "france_df = france_df.dropna(subset=['product_name'])\n",
    "france_df = france_df.drop(columns=['categories_tags', 'carbon-footprint_100g'])\n",
    "print(f\"La longueur du dataframe est maintenant de {len(france_df)}\")"
   ]
  },
  {
   "cell_type": "markdown",
   "id": "cdc99c96-8b34-413d-b4a2-758e95e8eabc",
   "metadata": {},
   "source": [
    "On peut voir qu'il y a des produits qui n'ont pas de nom. Nous n'avons pas vraiment d'autre choix que de les supprimer. \\\n",
    "Les différentes colonnes de catégories ont exactement le même taux de remplissage. Nous choisissons donc de garder les catégories en Français. \\\n",
    "La colonne de carbon-footprint_100g a un très faible taux de remplissage. Pour le moment, nous choisissons de la retirer.\n",
    "**Les lignes de code correspondants sont dans la cellule au-dessus à la suite du calcul de remplissage.**\n",
    "\n",
    "#### Variables qualitatives\n",
    "\n",
    "Dans notre cas, nous allons avoir essentiellement besoin du **Nutriscore** et de l'**Eco-score**. \\\n",
    "Si ces deux valeurs ne sont pas présentes, nous allons essayer de les déduire grâce aux informations nutritionnelles et écologiques présentes pour le produit.\n",
    "Nous allons donc éliminer les valeurs où tous les champs : `['additives_n','energy-kcal_100g','fiber_100g','proteins_100g','sugars_100g', 'fat_100g', 'saturated-fat_100g', 'sodium_100g']` sont nuls. \\\n",
    "Si une valeur est présente, nous gardons la ligne pour le moment pour essayer de la déduire. \n",
    "\n",
    "En lançant une fois la fonction dropna, nous vyons que l'ecoscore grade est à unknown est pas forcément à nul.\n",
    "Je vais donc voir quelles sont les valeurs des ecoscore_grade et nutriscore_grade"
   ]
  },
  {
   "cell_type": "code",
   "execution_count": 10,
   "id": "c99c7518-0ae4-4b45-a210-96fc4776c838",
   "metadata": {
    "tags": []
   },
   "outputs": [],
   "source": [
    "def remove_quant_var_null_values():\n",
    "    without_all_characteristics_nan_df = france_df.dropna(subset=['energy-kcal_100g','fiber_100g','proteins_100g','sugars_100g', 'fat_100g', 'saturated-fat_100g', 'sodium_100g'], thresh=1)\n",
    "    without_all_characteristics_nan_df_length = len(without_all_characteristics_nan_df)\n",
    "    formatted_without_all_characteristics_nan_df_length = format(without_all_characteristics_nan_df_length, ',').replace(',', ' ')\n",
    "    print(f\"Il y avait {formatted_france_df_length} produits, après ce nettoyage il y en a : {formatted_without_all_characteristics_nan_df_length}.\")\n",
    "    return without_all_characteristics_nan_df"
   ]
  },
  {
   "cell_type": "code",
   "execution_count": 11,
   "id": "906883a1-5b60-4920-be34-f18d9f0bc126",
   "metadata": {
    "tags": []
   },
   "outputs": [
    {
     "name": "stdout",
     "output_type": "stream",
     "text": [
      "nutriscore_grade : [nan 'a' 'd' 'b' 'c' 'e']\n",
      "ecoscore_grade : [nan 'd' 'c' 'b' 'e' 'a']\n"
     ]
    }
   ],
   "source": [
    "cols = ['nutriscore_grade', 'ecoscore_grade']\n",
    "for col in cols:\n",
    "    print(f\"{col} : {france_df[col].unique()}\")"
   ]
  },
  {
   "cell_type": "markdown",
   "id": "e25f7ae6-84ce-4e01-9548-dde853003aa7",
   "metadata": {},
   "source": [
    "Pour le nutriscore, pas de problème.\\\n",
    "Pour l'eco-score, nous avons deux valeurs qui ne sont pas utilisables : unknown et and not-applicable. Nous les remplacerons par nan. \\\n",
    "Nous relançons ensuite la même fonction que précédement."
   ]
  },
  {
   "cell_type": "code",
   "execution_count": 12,
   "id": "dc1b99e8-a2ca-4227-a434-269dae529806",
   "metadata": {
    "tags": []
   },
   "outputs": [
    {
     "name": "stdout",
     "output_type": "stream",
     "text": [
      "Il y avait 973 810 produits, après ce nettoyage il y en a : 762 766.\n",
      "nutriscore_grade : ['a' nan 'd' 'b' 'c' 'e']\n",
      "ecoscore_grade : ['d' nan 'c' 'b' 'e' 'a']\n"
     ]
    }
   ],
   "source": [
    "france_df['ecoscore_grade'] = france_df['ecoscore_grade'].replace(['unknown', 'not-applicable'], np.nan)\n",
    "france_df_without_all_null_quant_var = remove_quant_var_null_values()\n",
    "france_df_without_all_null_quant_var_length = format(len(france_df_without_all_null_quant_var), ',').replace(',', ' ')\n",
    "cols = ['nutriscore_grade', 'ecoscore_grade']\n",
    "for col in cols:\n",
    "    print(f\"{col} : {france_df_without_all_null_quant_var[col].unique()}\")\n"
   ]
  },
  {
   "cell_type": "markdown",
   "id": "3e301b98-71be-42e3-8b5f-8eaa789317aa",
   "metadata": {},
   "source": [
    "Ces deux colonnes sont maintenant uniformes.\n",
    "#### Variables quantitatives\n",
    "Attaquons nous maintenant aux variables quantitatives. Il s'agit des colonnes `['fiber_100g','energy-kcal_100g','sugars_100g', 'fat_100g', 'saturated-fat_100g', 'sodium_100g', 'proteins_100g']`. \\\n",
    "Toutes ces variables sont sensées être des proportions sur 100g. Elles ne doivent donc être ni négatives, ni supérieures à 100. Voyons voir la répartition."
   ]
  },
  {
   "cell_type": "code",
   "execution_count": 13,
   "id": "1bc266c9-b63a-4bac-bc2f-5ef69f14e946",
   "metadata": {
    "tags": []
   },
   "outputs": [
    {
     "name": "stdout",
     "output_type": "stream",
     "text": [
      "Value counts for column 'fiber_100g':\n",
      "fiber_100g\n",
      "(-inf, -1e-15]         0\n",
      "(-1e-15, 10.0]    212617\n",
      "(10.0, 20.0]        8681\n",
      "(20.0, 30.0]        1790\n",
      "(30.0, 40.0]         885\n",
      "(40.0, 50.0]         353\n",
      "(50.0, 60.0]         171\n",
      "(60.0, 70.0]         125\n",
      "(70.0, 80.0]         105\n",
      "(80.0, 90.0]         137\n",
      "(90.0, 100.0]         18\n",
      "(100.0, inf]           5\n",
      "Name: count, dtype: int64\n",
      "\n",
      "Value counts for column 'energy-kcal_100g':\n",
      "energy-kcal_100g\n",
      "(-inf, -1e-15]         0\n",
      "(-1e-15, 10.0]     35080\n",
      "(10.0, 20.0]       11482\n",
      "(20.0, 30.0]       14687\n",
      "(30.0, 40.0]       16026\n",
      "(40.0, 50.0]       23193\n",
      "(50.0, 60.0]       14472\n",
      "(60.0, 70.0]       13296\n",
      "(70.0, 80.0]       11327\n",
      "(80.0, 90.0]       11003\n",
      "(90.0, 100.0]      13676\n",
      "(100.0, inf]      560330\n",
      "Name: count, dtype: int64\n",
      "\n",
      "Value counts for column 'sugars_100g':\n",
      "sugars_100g\n",
      "(-inf, -1e-15]         1\n",
      "(-1e-15, 10.0]    491702\n",
      "(10.0, 20.0]       73070\n",
      "(20.0, 30.0]       52496\n",
      "(30.0, 40.0]       36033\n",
      "(40.0, 50.0]       29436\n",
      "(50.0, 60.0]       31478\n",
      "(60.0, 70.0]       13942\n",
      "(70.0, 80.0]        9428\n",
      "(80.0, 90.0]        4359\n",
      "(90.0, 100.0]       3452\n",
      "(100.0, inf]          20\n",
      "Name: count, dtype: int64\n",
      "\n",
      "Value counts for column 'fat_100g':\n",
      "fat_100g\n",
      "(-inf, -1e-15]         1\n",
      "(-1e-15, 10.0]    409199\n",
      "(10.0, 20.0]      125087\n",
      "(20.0, 30.0]      101441\n",
      "(30.0, 40.0]       57376\n",
      "(40.0, 50.0]       19458\n",
      "(50.0, 60.0]       10437\n",
      "(60.0, 70.0]        3853\n",
      "(70.0, 80.0]        2659\n",
      "(80.0, 90.0]        1853\n",
      "(90.0, 100.0]       9664\n",
      "(100.0, inf]          28\n",
      "Name: count, dtype: int64\n",
      "\n",
      "Value counts for column 'saturated-fat_100g':\n",
      "saturated-fat_100g\n",
      "(-inf, -1e-15]         0\n",
      "(-1e-15, 10.0]    599636\n",
      "(10.0, 20.0]      108448\n",
      "(20.0, 30.0]       31124\n",
      "(30.0, 40.0]        2747\n",
      "(40.0, 50.0]         678\n",
      "(50.0, 60.0]        2135\n",
      "(60.0, 70.0]         262\n",
      "(70.0, 80.0]         104\n",
      "(80.0, 90.0]         280\n",
      "(90.0, 100.0]        394\n",
      "(100.0, inf]           8\n",
      "Name: count, dtype: int64\n",
      "\n",
      "Value counts for column 'sodium_100g':\n",
      "sodium_100g\n",
      "(-inf, -1e-15]         0\n",
      "(-1e-15, 10.0]    700578\n",
      "(10.0, 20.0]        1110\n",
      "(20.0, 30.0]         549\n",
      "(30.0, 40.0]         712\n",
      "(40.0, 50.0]           8\n",
      "(50.0, 60.0]           4\n",
      "(60.0, 70.0]           5\n",
      "(70.0, 80.0]           5\n",
      "(80.0, 90.0]           1\n",
      "(90.0, 100.0]          1\n",
      "(100.0, inf]          23\n",
      "Name: count, dtype: int64\n",
      "\n",
      "Value counts for column 'proteins_100g':\n",
      "proteins_100g\n",
      "(-inf, -1e-15]         4\n",
      "(-1e-15, 10.0]    509608\n",
      "(10.0, 20.0]      140837\n",
      "(20.0, 30.0]       75656\n",
      "(30.0, 40.0]        9332\n",
      "(40.0, 50.0]        1956\n",
      "(50.0, 60.0]        1093\n",
      "(60.0, 70.0]        1083\n",
      "(70.0, 80.0]        2052\n",
      "(80.0, 90.0]        1032\n",
      "(90.0, 100.0]        226\n",
      "(100.0, inf]           9\n",
      "Name: count, dtype: int64\n",
      "\n"
     ]
    }
   ],
   "source": [
    "# define the bins\n",
    "bins = [-float('inf'), -1e-15, 10, 20, 30, 40, 50, 60, 70, 80, 90, 100, float('inf')]\n",
    "cols = ['fiber_100g','energy-kcal_100g','sugars_100g', 'fat_100g', 'saturated-fat_100g', 'sodium_100g', 'proteins_100g']\n",
    "for col in cols:\n",
    "    cut_series = pd.cut(france_df_without_all_null_quant_var[col], bins)\n",
    "    value_counts = cut_series.value_counts(sort=False)\n",
    "    print(f\"Value counts for column '{col}':\\n{value_counts}\\n\")"
   ]
  },
  {
   "cell_type": "markdown",
   "id": "0c6f38e8-a6ef-4857-8487-1d3137cb9ebe",
   "metadata": {
    "tags": []
   },
   "source": [
    "##### Suppression des valeurs négatives et supérieures à 100\n",
    "En voyant ça, nous avons deux tris à faire : \\\n",
    "Supprimer toutes les valeurs < 0 pour toutes les colonnes.\\\n",
    "Supprimer les valeurs > 100 pour toutes les colonnes sauf `energy-kcal_100g`"
   ]
  },
  {
   "cell_type": "code",
   "execution_count": 14,
   "id": "36d84057-1e12-4820-b980-c5bbdff88678",
   "metadata": {
    "tags": []
   },
   "outputs": [
    {
     "name": "stdout",
     "output_type": "stream",
     "text": [
      "Après suppression des valeurs inférieures à 0, il reste : 762760 lignes.\n",
      "Après suppression des valeurs supérieures à 100 il reste : 762675 lignes.\n",
      "Il y avait 762 766 produits dans la liste, il y en a maintenant 762 675. \n",
      "\n"
     ]
    }
   ],
   "source": [
    "# Remove lines with quantitative values inferior to 0\n",
    "cols = ['fiber_100g','sugars_100g', 'fat_100g', 'energy-kcal_100g', 'saturated-fat_100g', 'sodium_100g', 'proteins_100g']\n",
    "filtered_france_df = france_df_without_all_null_quant_var\n",
    "for col in cols:\n",
    "    filtered_france_df = filtered_france_df.loc[(filtered_france_df[col].isnull()) | (filtered_france_df[col] >= 0)]\n",
    "\n",
    "print(f\"Après suppression des valeurs inférieures à 0, il reste : {len(filtered_france_df)} lignes.\")\n",
    "\n",
    "# Remove lines with quantitatives values superior to 100 except for energy-kcal_100g\n",
    "cols = ['fiber_100g','sugars_100g', 'fat_100g', 'saturated-fat_100g', 'sodium_100g', 'proteins_100g']\n",
    "for col in cols:\n",
    "    filtered_france_df = filtered_france_df.loc[(filtered_france_df[col].isnull()) | (filtered_france_df[col] <= 100)]\n",
    "print(f\"Après suppression des valeurs supérieures à 100 il reste : {len(filtered_france_df)} lignes.\")\n",
    "    \n",
    "france_df_filtered_length = format(len(filtered_france_df), ',').replace(',', ' ')\n",
    "print(f\"Il y avait {france_df_without_all_null_quant_var_length} produits dans la liste, il y en a maintenant {france_df_filtered_length}. \\n\")"
   ]
  },
  {
   "cell_type": "markdown",
   "id": "ae80c07a-1fae-4253-9b18-b432b270c155",
   "metadata": {},
   "source": [
    "Regardons maintenant la colonne `energy-kcal_100g` d'un peu plus près car ses mesures peuvent aller au-delà de 100."
   ]
  },
  {
   "cell_type": "code",
   "execution_count": 15,
   "id": "e3018438-79ef-40c2-80a1-50bc61ab75f9",
   "metadata": {
    "tags": []
   },
   "outputs": [
    {
     "name": "stdout",
     "output_type": "stream",
     "text": [
      "Value counts for column 'energy-kcal_100g':\n",
      "energy-kcal_100g\n",
      "(0.0, 200.0]        272062\n",
      "(200.0, 400.0]      254590\n",
      "(400.0, 600.0]      150674\n",
      "(600.0, 800.0]       17887\n",
      "(800.0, 1000.0]      10598\n",
      "(1000.0, 1200.0]       390\n",
      "(1200.0, 1400.0]       347\n",
      "(1400.0, 1600.0]       327\n",
      "(1600.0, 1800.0]        34\n",
      "(1800.0, 2000.0]        19\n",
      "(2000.0, 3000.0]        28\n",
      "(3000.0, 5000.0]        16\n",
      "(5000.0, inf]            6\n",
      "Name: count, dtype: int64\n",
      "\n"
     ]
    }
   ],
   "source": [
    "# define the bins\n",
    "# We already removed the values <0\n",
    "bins = [0, 200, 400, 600, 800, 1000, 1200, 1400, 1600, 1800, 2000, 3000, 5000, float('inf')]\n",
    "cols = ['energy-kcal_100g']\n",
    "for col in cols:\n",
    "    cut_series = pd.cut(filtered_france_df[col], bins)\n",
    "    value_counts = cut_series.value_counts(sort=False)\n",
    "    print(f\"Value counts for column '{col}':\\n{value_counts}\\n\")\n"
   ]
  },
  {
   "cell_type": "markdown",
   "id": "7290de28-ae2b-4642-b6ad-7f887c1f9b57",
   "metadata": {},
   "source": [
    "Nous voyons que nous avons quelques valeurs incohérentes avec des quantités à plus de 1000 kcal pour 100g.\\\n",
    "Après quelques recherches, les huiles qui sont les aliments les plus caloriques pour 100g ont environ 900 kcal pour 100g.\\\n",
    "Nous choisissons donc de remplacer les valeurs qui ont plus de 1000 kcal par 100 grammes par la moyenne de leur catégorie."
   ]
  },
  {
   "cell_type": "code",
   "execution_count": 16,
   "id": "a2640000-ca6e-4996-a86a-5bc918c1e567",
   "metadata": {},
   "outputs": [
    {
     "name": "stdout",
     "output_type": "stream",
     "text": [
      "pnns_groups_2\n",
      "Alcoholic beverages                    73.001168\n",
      "Appetizers                            433.944631\n",
      "Artificially sweetened beverages       32.098692\n",
      "Biscuits and cakes                    427.930399\n",
      "Bread                                 323.558151\n",
      "Breakfast cereals                     398.398525\n",
      "Cereals                               345.501497\n",
      "Cheese                                338.316510\n",
      "Chocolate products                    550.577604\n",
      "Dairy desserts                        131.977696\n",
      "Dressings and sauces                  236.468072\n",
      "Dried fruits                          346.499030\n",
      "Eggs                                  143.644095\n",
      "Fats                                  805.959167\n",
      "Fish and seafood                      184.039897\n",
      "Fruit juices                           46.085407\n",
      "Fruit nectars                          49.571940\n",
      "Fruits                                124.485837\n",
      "Ice cream                             205.983542\n",
      "Legumes                               301.681507\n",
      "Meat                                  182.231430\n",
      "Milk and yogurt                       110.293983\n",
      "Nuts                                  596.520817\n",
      "Offals                                221.618533\n",
      "One-dish meals                        158.576501\n",
      "Pastries                              365.212357\n",
      "Pizza pies and quiches                269.868680\n",
      "Plant-based milk substitutes           92.205466\n",
      "Potatoes                              173.009169\n",
      "Processed meat                        257.649060\n",
      "Salty and fatty products              340.162313\n",
      "Sandwiches                            242.328445\n",
      "Soups                                  55.034328\n",
      "Sweetened beverages                   106.504674\n",
      "Sweets                                341.098416\n",
      "Teas and herbal teas and coffees       38.738514\n",
      "Unsweetened beverages                  41.141973\n",
      "Vegetables                             75.294939\n",
      "Waters and flavored waters              2.582000\n",
      "unknown                             85304.849180\n",
      "Name: energy-kcal_100g, dtype: float64\n",
      "Value counts for column 'energy-kcal_100g':\n",
      "energy-kcal_100g\n",
      "(0.0, 200.0]        272122\n",
      "(200.0, 400.0]      254797\n",
      "(400.0, 600.0]      150703\n",
      "(600.0, 800.0]       17887\n",
      "(800.0, 1000.0]      10603\n",
      "(1000.0, 1200.0]         0\n",
      "(1200.0, 1400.0]         0\n",
      "(1400.0, 1600.0]         0\n",
      "(1600.0, 1800.0]         0\n",
      "(1800.0, 2000.0]         0\n",
      "(2000.0, 3000.0]         0\n",
      "(3000.0, 5000.0]         0\n",
      "(5000.0, inf]          866\n",
      "Name: count, dtype: int64\n",
      "\n",
      "Il y a maintenant 762675 produits dans le jeune de données.\n"
     ]
    }
   ],
   "source": [
    "# Calculation of groups means\n",
    "group_means = filtered_france_df.groupby(\"pnns_groups_2\")[\"energy-kcal_100g\"].mean()\n",
    "print(group_means)\n",
    "\n",
    "# replace values greater than 1000 with the group mean of corresponding \"pnns_groups_2\"\n",
    "filtered_france_df.loc[filtered_france_df[\"energy-kcal_100g\"] > 1000, \"energy-kcal_100g\"] = filtered_france_df.loc[filtered_france_df[\"energy-kcal_100g\"] > 1000, \"pnns_groups_2\"].map(group_means)\n",
    "\n",
    "# print value counts after replacing values\n",
    "bins = [0, 200, 400, 600, 800, 1000, 1200, 1400, 1600, 1800, 2000, 3000, 5000, float('inf')]\n",
    "cols = ['energy-kcal_100g']\n",
    "for col in cols:\n",
    "    cut_series = pd.cut(filtered_france_df[col], bins)\n",
    "    value_counts = cut_series.value_counts(sort=False)\n",
    "    print(f\"Value counts for column '{col}':\\n{value_counts}\\n\")\n",
    "\n",
    "print(f\"Il y a maintenant {len(filtered_france_df)} produits dans le jeune de données.\")"
   ]
  },
  {
   "cell_type": "markdown",
   "id": "141aa7e5-5b0f-4019-b108-dcc4bf35f2bf",
   "metadata": {},
   "source": [
    "Nous remarquons qu'il y a encore 866 valeurs aberrantes, qui ont sûrement récupéré la valeur moyenne de la catégorie **unknown** qui est de 85304kcal.\\\n",
    "En les affichant, nous voyons qu'il s'agit de valeurs ayant le `pnns_groups_2` à *unknown*.\n",
    "Nous les retirons donc car non identifiables."
   ]
  },
  {
   "cell_type": "code",
   "execution_count": 17,
   "id": "e63bf655-f1d5-4b66-8422-cc4805c4bf84",
   "metadata": {
    "tags": []
   },
   "outputs": [
    {
     "name": "stdout",
     "output_type": "stream",
     "text": [
      "La ou les catégories qui ont des valeurs de kcal par 100g supérieures à 5000 : ['unknown']\n",
      "Value counts for column 'energy-kcal_100g':\n",
      "energy-kcal_100g\n",
      "(0.0, 200.0]        272122\n",
      "(200.0, 400.0]      254797\n",
      "(400.0, 600.0]      150703\n",
      "(600.0, 800.0]       17887\n",
      "(800.0, 1000.0]      10603\n",
      "(1000.0, 1200.0]         0\n",
      "(1200.0, 1400.0]         0\n",
      "(1400.0, 1600.0]         0\n",
      "(1600.0, 1800.0]         0\n",
      "(1800.0, 2000.0]         0\n",
      "(2000.0, 3000.0]         0\n",
      "(3000.0, 5000.0]         0\n",
      "(5000.0, inf]            0\n",
      "Name: count, dtype: int64\n",
      "\n",
      "Il y a maintenant 723617 produits dans le jeu de données.\n"
     ]
    }
   ],
   "source": [
    "print(f\"La ou les catégories qui ont des valeurs de kcal par 100g supérieures à 5000 : {filtered_france_df[filtered_france_df['energy-kcal_100g'] > 5000]['pnns_groups_2'].unique()}\") \n",
    "filtered_france_df = filtered_france_df[filtered_france_df[\"energy-kcal_100g\"] < 5000]\n",
    "\n",
    "# Print \n",
    "bins = [0, 200, 400, 600, 800, 1000, 1200, 1400, 1600, 1800, 2000, 3000, 5000, float('inf')]\n",
    "cols = ['energy-kcal_100g']\n",
    "for col in cols:\n",
    "    cut_series = pd.cut(filtered_france_df[col], bins)\n",
    "    value_counts = cut_series.value_counts(sort=False)\n",
    "    print(f\"Value counts for column '{col}':\\n{value_counts}\\n\")\n",
    "    \n",
    "print(f\"Il y a maintenant {len(filtered_france_df)} produits dans le jeu de données.\")"
   ]
  },
  {
   "cell_type": "markdown",
   "id": "ad0cdbd2-5710-4a9b-bac4-85172ada4799",
   "metadata": {},
   "source": [
    "##### Remplacement des valeurs manquantes par la moyenne\n",
    "**Objectif :** \\\n",
    "Remplacer les valeurs manquantes de la colonne par la moyenne des valeurs de sa/ses catégories, représentées ici par `pnns_groups_2`\n"
   ]
  },
  {
   "cell_type": "code",
   "execution_count": 18,
   "id": "7b6faa8d-5fcc-4d6f-adcd-487845c86586",
   "metadata": {
    "tags": []
   },
   "outputs": [
    {
     "name": "stdout",
     "output_type": "stream",
     "text": [
      "code                         100.000000\n",
      "product_name                 100.000000\n",
      "pnns_groups_2                100.000000\n",
      "countries_tags               100.000000\n",
      "manufacturing_places_tags      8.870715\n",
      "nutriscore_score              47.408090\n",
      "nutriscore_grade              47.408090\n",
      "ecoscore_score                36.796399\n",
      "ecoscore_grade                36.796399\n",
      "fiber_100g                   100.000000\n",
      "proteins_100g                100.000000\n",
      "energy-kcal_100g             100.000000\n",
      "sugars_100g                  100.000000\n",
      "fat_100g                     100.000000\n",
      "saturated-fat_100g           100.000000\n",
      "sodium_100g                  100.000000\n",
      "dtype: float64\n"
     ]
    }
   ],
   "source": [
    "cols = [\"fiber_100g\", \"proteins_100g\", \"energy-kcal_100g\", \"sugars_100g\", \"fat_100g\", \"saturated-fat_100g\", \"sodium_100g\"]\n",
    "grouped = filtered_france_df.groupby(\"pnns_groups_2\")\n",
    "group_means = grouped[cols].mean()\n",
    "group_means.dropna()\n",
    "\n",
    "for col in cols:\n",
    "    filtered_france_df[col].fillna(filtered_france_df[\"pnns_groups_2\"].map(group_means[col]), inplace=True)\n",
    "    \n",
    "filled_pct = filtered_france_df.count() / len(filtered_france_df) * 100\n",
    "print(filled_pct)"
   ]
  },
  {
   "cell_type": "markdown",
   "id": "a94eb0d5-cf88-41d3-8dd9-d3e67437eac1",
   "metadata": {},
   "source": [
    "#### Cas du nutri-score\n",
    "Nous avons réussi à combler les différentes valeurs quantitatives.\\\n",
    "Dorénavant, il faudrait être capable d'attribuer un `nutriscore_score` et un `nutriscore_grade` aux valeurs manquantes.\n",
    "\n",
    "Sur les conseils de mon mentor, je vais tenter d'utiliser la méthode du K-Nearest Neighbour (KNN) pour déduire le `nutriscore_score` en fonction des différentes valeurs quantitatives présentes."
   ]
  },
  {
   "cell_type": "code",
   "execution_count": 21,
   "id": "d893706e-e08c-4f03-a1d5-ceb00e31d11c",
   "metadata": {
    "tags": []
   },
   "outputs": [
    {
     "name": "stdout",
     "output_type": "stream",
     "text": [
      "Accuracy for nutriscore_score: 0.428517293145414\n",
      "Accuracy for nutriscore_grade: 0.7280173733074872\n"
     ]
    }
   ],
   "source": [
    "from sklearn.neighbors import KNeighborsClassifier\n",
    "from sklearn.model_selection import train_test_split\n",
    "from sklearn.metrics import accuracy_score\n",
    "\n",
    "for indicator in ['nutriscore_score', 'nutriscore_grade']:\n",
    "    knn_test_df = filtered_france_df[['nutriscore_score', 'nutriscore_grade','sugars_100g', 'fat_100g', 'energy-kcal_100g', 'saturated-fat_100g', 'sodium_100g', 'proteins_100g']]\n",
    "    knn_test_df = knn_test_df.dropna()\n",
    "\n",
    "    # prepare your data\n",
    "    cols = ['sugars_100g', 'fat_100g', 'energy-kcal_100g', 'saturated-fat_100g', 'sodium_100g', 'proteins_100g']\n",
    "\n",
    "    X = knn_test_df[cols].dropna()\n",
    "\n",
    "    y = knn_test_df.loc[X.index, indicator]\n",
    "\n",
    "    X_train, X_test, y_train, y_test = train_test_split(X, y, test_size=0.2, random_state=42)\n",
    "\n",
    "    # train your model\n",
    "    knn = KNeighborsClassifier(n_neighbors=7)\n",
    "    knn.fit(X_train, y_train)\n",
    "\n",
    "    # test your model\n",
    "    y_pred = knn.predict(X_test)\n",
    "    accuracy = accuracy_score(y_test, y_pred)\n",
    "\n",
    "    print(f\"Accuracy for {indicator}: {accuracy}\")"
   ]
  },
  {
   "cell_type": "markdown",
   "id": "90151ecf-f106-4bb0-a1a1-b6d8b737184e",
   "metadata": {},
   "source": []
  }
 ],
 "metadata": {
  "kernelspec": {
   "display_name": "Python 3 (ipykernel)",
   "language": "python",
   "name": "python3"
  },
  "language_info": {
   "codemirror_mode": {
    "name": "ipython",
    "version": 3
   },
   "file_extension": ".py",
   "mimetype": "text/x-python",
   "name": "python",
   "nbconvert_exporter": "python",
   "pygments_lexer": "ipython3",
   "version": "3.10.6"
  }
 },
 "nbformat": 4,
 "nbformat_minor": 5
}
