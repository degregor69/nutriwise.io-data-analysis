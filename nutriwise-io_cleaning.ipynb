{
 "cells": [
  {
   "cell_type": "markdown",
   "id": "bc28cd1a-f392-4c6f-b507-9b59ecd3adf3",
   "metadata": {
    "tags": []
   },
   "source": [
    "# ***NUTRIWISE.io***\n",
    "#### *Trouve les meilleurs ingrédients pour le plat que tu veux manger !*\n",
    "***\n",
    "## Problématique\n",
    "Après une réflexion intense, j'ai enfin choisi ! Ce soir, ce sera spaghetti à la bolognaise.\\\n",
    "Arrivé devant le rayon : difficile ! Un éventail large de pâtes et sauces...\\\n",
    "Mais quels ingrédients sont les meilleurs pour ma santé ? L'environnement ?\\\n",
    "Je n'ai pas envie de scanner chaque code-barre, il me faut quelque chose qui me dise instantanément quoi prendre !\\\n",
    "La solution : **NUTRIWISE.io**\n",
    "\n",
    "## Données\n",
    "### Source\n",
    "Nous utiliserons ici le jeu de données `fr.openfoodfacts.org.products.csv` fourni par OpenFoodFacts.\n",
    "\n",
    "### Variables utilisées\n",
    "\n",
    "Après exploration des données ***NUTRIWISE.io*** va utiliser les données suivantes :`['code',  'product_name', 'main_category_fr', 'countries_tags', 'manufacturing_places_tags', 'nutriscore_score', 'nutriscore_grade', 'ecoscore_score','ecoscore_grade','carbon-footprint_100g', 'additives_n', 'sugars_100g', 'fat_100g', 'saturated-fat_100g', 'sodium_100g']`\n",
    "\n",
    "Le but va être de créer un score mêlant le nutriscore et l'ecoscore pour trouver l'ingrédient optimal.\n",
    "Lorsque le nutriscore est indisponible, nous allons essayer de le déterminer grâce aux teneurs en sucre, gras, gras saturé et sel.\n",
    "Lorsque l'ecoscore est indisponible, nous allons essayer de le déterminer grâce à l'empreinte carbone.\n",
    "\n",
    "\n",
    "## Lecture des données"
   ]
  },
  {
   "cell_type": "code",
   "execution_count": 1,
   "id": "6a3d30a8-95e1-411a-b799-58137f4a83c9",
   "metadata": {
    "tags": []
   },
   "outputs": [],
   "source": [
    "# Imports\n",
    "import pandas as pd\n",
    "import numpy as np\n",
    "import time\n",
    "import matplotlib.pyplot as plt\n",
    "import matplotlib.ticker as mtick"
   ]
  },
  {
   "cell_type": "code",
   "execution_count": 2,
   "id": "5fb2d974-d7b0-40bf-996f-1e68949e4f5b",
   "metadata": {
    "tags": []
   },
   "outputs": [
    {
     "name": "stderr",
     "output_type": "stream",
     "text": [
      "/tmp/ipykernel_33679/4144064526.py:12: DtypeWarning: Columns (0,25) have mixed types. Specify dtype option on import or set low_memory=False.\n",
      "  df= pd.read_csv('fr.openfoodfacts.org.products.csv', sep='\\t', usecols=cols, low_memory=True)\n"
     ]
    },
    {
     "name": "stdout",
     "output_type": "stream",
     "text": [
      "Running time to read csv : 44.75 seconds\n"
     ]
    }
   ],
   "source": [
    "# Reading of the CSV file and creation of the DataFrame\n",
    "nrows=500000 # This value for the tests to improve the running time\n",
    "cols = ['code',  'product_name', 'main_category_fr', 'categories_fr', 'categories_tags', 'countries_tags', 'manufacturing_places_tags', \\\n",
    "        'nutriscore_score', 'nutriscore_grade', 'ecoscore_score','ecoscore_grade', \\\n",
    "        'additives_n','carbon-footprint_100g', 'sugars_100g', 'fat_100g', 'saturated-fat_100g', 'sodium_100g']\n",
    "\n",
    "start_time = time.time()\n",
    "# This line to run the reading on a nrows sample\n",
    "# df= pd.read_csv('fr.openfoodfacts.org.products.csv', sep='\\t', usecols=cols, low_memory=True, nrows=nrows)\n",
    "\n",
    "#This line to run the reading on the entire CSV file\n",
    "df= pd.read_csv('fr.openfoodfacts.org.products.csv', sep='\\t', usecols=cols, low_memory=True)\n",
    "\n",
    "end_time = time.time()\n",
    "print(f\"Running time to read csv : {end_time - start_time:.2f} seconds\")\n",
    "\n",
    "total_df_length = len(df)\n",
    "formatted_total_df_length = format(total_df_length, ',').replace(',', ' ')"
   ]
  },
  {
   "cell_type": "markdown",
   "id": "6f504307-dc4c-458a-a5c9-6dbe35b7ca98",
   "metadata": {},
   "source": [
    "## Nettoyage des données\n",
    "### Démarche\n",
    "#### Contrainte géographique\n",
    "\n",
    "Dans un premier temps, nous allons nous concentrer sur la France. Notre première étape sera donc de garder les ingrédients seulement vendus en France.\n",
    "Ensuite, nous enlèverons les doublons de cette base."
   ]
  },
  {
   "cell_type": "code",
   "execution_count": 3,
   "id": "89cf83de-a2d1-4d21-9241-f853229b380b",
   "metadata": {
    "tags": []
   },
   "outputs": [
    {
     "name": "stdout",
     "output_type": "stream",
     "text": [
      "6 lignes étaient des doublons parfaits.\n",
      "Au total, il y avait 2 829 821 lignes dans la base initiale. \n",
      "Après avoir gardé seulement les produits vendus en France, il y a 970 916, soit 34.31 % de la base initiale.\n"
     ]
    },
    {
     "data": {
      "image/png": "[encoded data removed]",
      "text/plain": [
       "<Figure size 640x480 with 1 Axes>"
      ]
     },
     "metadata": {},
     "output_type": "display_data"
    }
   ],
   "source": [
    "# Drop rows with the selling countries are not known\n",
    "df = df.dropna(subset=['countries_tags'])\n",
    "\n",
    "\n",
    "# Filter the rows with only countries_tags that contains 'france'\n",
    "france_df = df[df['countries_tags'].str.contains('france')]\n",
    "france_df = france_df[cols]\n",
    "france_df_length = len(france_df)\n",
    "formatted_france_df_length = format(france_df_length, ',').replace(',', ' ')\n",
    "france_df = france_df.drop_duplicates()\n",
    "france_df_uniques_length = len(france_df)\n",
    "france_df_backup = france_df\n",
    "print(f\"{france_df_length - france_df_uniques_length} lignes étaient des doublons parfaits.\")\n",
    "print(f\"Au total, il y avait {formatted_total_df_length} lignes dans la base initiale. \\nAprès avoir gardé seulement les produits vendus en France, il y a {formatted_france_df_length}, soit {round(france_df_length/total_df_length* 100,2)} % de la base initiale.\")\n",
    "\n",
    "# GRAPH\n",
    "values = [total_df_length, france_df_length]\n",
    "labels = [\"Nombre total de produits\", \"Nombre de produits fabriqués en France\"]\n",
    "fig, ax = plt.subplots()\n",
    "ax.bar(labels, values, color=['#8E8E8E', '#A9D4FF'])\n",
    "ax.set_ylabel('Nombre de produits')\n",
    "ax.set_title('Différence entre le total et les produits vendus en France')\n",
    "\n",
    "plt.show()"
   ]
  },
  {
   "cell_type": "markdown",
   "id": "d8d5ce2b-c4d8-49e4-b76f-335311f781b4",
   "metadata": {},
   "source": [
    "#### Erreurs lexicales"
   ]
  },
  {
   "cell_type": "code",
   "execution_count": 4,
   "id": "fc6cdc25-96b3-4c05-9c2e-b3ba3984562b",
   "metadata": {
    "tags": []
   },
   "outputs": [
    {
     "name": "stdout",
     "output_type": "stream",
     "text": [
      "code : object\n",
      "product_name : object\n",
      "main_category_fr : object\n",
      "categories_fr : object\n",
      "categories_tags : object\n",
      "countries_tags : object\n",
      "manufacturing_places_tags : object\n",
      "nutriscore_score : float64\n",
      "nutriscore_grade : object\n",
      "ecoscore_score : float64\n",
      "ecoscore_grade : object\n",
      "additives_n : float64\n",
      "carbon-footprint_100g : float64\n",
      "sugars_100g : float64\n",
      "fat_100g : float64\n",
      "saturated-fat_100g : float64\n",
      "sodium_100g : float64\n",
      "\n",
      "On peut voir qu'il n'y a rien de particulier ici. Ceux qui doivent être des nombres sont des nombres, ceux qui doivent être du texte sont du texte.\n"
     ]
    }
   ],
   "source": [
    "# check if there are two different data types in each column\n",
    "for col in france_df.columns:\n",
    "    if france_df[col].nunique() > 1:\n",
    "        print(f\"{col} : {france_df[col].dtypes}\")\n",
    "        \n",
    "print(\"\\nOn peut voir qu'il n'y a rien de particulier ici. Ceux qui doivent être des nombres sont des nombres, ceux qui doivent être du texte sont du texte.\")"
   ]
  },
  {
   "cell_type": "markdown",
   "id": "9c201ee7-2372-42ae-b0de-0381dd365f88",
   "metadata": {},
   "source": [
    "#### Gestion des valeurs nulles\n",
    "##### Basiques"
   ]
  },
  {
   "cell_type": "code",
   "execution_count": 5,
   "id": "a2b4b10f-9497-4ff3-be91-323ab685c05d",
   "metadata": {
    "tags": []
   },
   "outputs": [
    {
     "name": "stdout",
     "output_type": "stream",
     "text": [
      "code                         100.000000\n",
      "product_name                  97.261126\n",
      "main_category_fr              49.220216\n",
      "categories_fr                 49.220216\n",
      "categories_tags               49.220216\n",
      "countries_tags               100.000000\n",
      "manufacturing_places_tags      8.744065\n",
      "nutriscore_score              37.378748\n",
      "nutriscore_grade              37.378748\n",
      "ecoscore_score                35.318825\n",
      "ecoscore_grade                99.905965\n",
      "additives_n                   29.280572\n",
      "carbon-footprint_100g          0.032959\n",
      "sugars_100g                   76.869844\n",
      "fat_100g                      76.418000\n",
      "saturated-fat_100g            76.909600\n",
      "sodium_100g                   72.523509\n",
      "dtype: float64\n"
     ]
    }
   ],
   "source": [
    "filled_pct = france_df.count() / len(france_df) * 100\n",
    "print(filled_pct)\n",
    "\n",
    "# Remove the lines which do not have product_name\n",
    "france_df = france_df.dropna(subset=['product_name'])\n",
    "france_df = france_df.drop(columns=['main_category_fr', 'categories_tags', 'carbon-footprint_100g'])"
   ]
  },
  {
   "cell_type": "markdown",
   "id": "cdc99c96-8b34-413d-b4a2-758e95e8eabc",
   "metadata": {},
   "source": [
    "On peut voir qu'il y a des produits qui n'ont pas de nom. Nous n'avons pas vraiment d'autre choix que de les supprimer. \\\n",
    "Les différentes colonnes de catégories ont exactement le même taux de remplissage. Nous choisissons donc de garder les catégories en Français. \\\n",
    "La colonne de carbon-footprint_100g a un très faible taux de remplissage. Pour le moment, nous choisissons de la retirer.\n",
    "**Les lignes de code correspondants sont dans la cellule au-dessus à la suite du calcul de remplissage.**\n",
    "\n",
    "#### Variables qualitatives\n",
    "\n",
    "Dans notre cas, nous allons avoir essentiellement besoin du **Nutriscore** et de l'**Eco-score**. \\\n",
    "Si ces deux valeurs ne sont pas présentes, nous allons essayer de les déduire grâce aux informations nutritionnelles et écologiques présentes pour le produit.\n",
    "Nous allons donc éliminer les valeurs où tous les champs : `['nutriscore_score', 'nutriscore_grade', 'ecoscore_score','ecoscore_grade','carbon-footprint_100g', 'additives_n', 'sugars_100g', 'fat_100g', 'saturated-fat_100g', 'sodium_100g']` sont nuls. \\\n",
    "Si une valeur est présente, nous gardons la ligne pour le moment pour essayer de la déduire. \n",
    "\n",
    "En lançant une fois la fonction dropna, nous vyons que l'ecoscore grade est à unknown est pas forcément à nul.\n",
    "Je vais donc voir quelles sont les valeurs des ecoscore_grade et nutriscore_grade"
   ]
  },
  {
   "cell_type": "code",
   "execution_count": 10,
   "id": "c99c7518-0ae4-4b45-a210-96fc4776c838",
   "metadata": {
    "tags": []
   },
   "outputs": [],
   "source": [
    "def remove_quant_var_null_values():\n",
    "    without_all_characteristics_nan_df = france_df.dropna(subset=['additives_n', 'sugars_100g', 'fat_100g', 'saturated-fat_100g', 'sodium_100g'], thresh=1)\n",
    "    without_all_characteristics_nan_df_length = len(without_all_characteristics_nan_df)\n",
    "    formatted_without_all_characteristics_nan_df_length = format(without_all_characteristics_nan_df_length, ',').replace(',', ' ')\n",
    "    print(f\"Il y avait {formatted_france_df_length} produits, après ce nettoyage il y en a : {formatted_without_all_characteristics_nan_df_length}.\")\n",
    "    return without_all_characteristics_nan_df"
   ]
  },
  {
   "cell_type": "code",
   "execution_count": 11,
   "id": "906883a1-5b60-4920-be34-f18d9f0bc126",
   "metadata": {
    "tags": []
   },
   "outputs": [
    {
     "name": "stdout",
     "output_type": "stream",
     "text": [
      "nutriscore_grade : [nan 'a' 'd' 'b' 'c' 'e']\n",
      "ecoscore_grade : [nan 'd' 'c' 'b' 'e' 'a']\n"
     ]
    }
   ],
   "source": [
    "cols = ['nutriscore_grade', 'ecoscore_grade']\n",
    "for col in cols:\n",
    "    print(f\"{col} : {france_df[col].unique()}\")"
   ]
  },
  {
   "cell_type": "markdown",
   "id": "e25f7ae6-84ce-4e01-9548-dde853003aa7",
   "metadata": {},
   "source": [
    "Pour le nutriscore, pas de problème.\\\n",
    "Pour l'eco-score, nous avons deux valeurs qui ne sont pas utilisables : unknown et and not-applicable. Nous les remplacerons par nan. \\\n",
    "Nous relançons ensuite la même fonction que précédement."
   ]
  },
  {
   "cell_type": "code",
   "execution_count": 12,
   "id": "dc1b99e8-a2ca-4227-a434-269dae529806",
   "metadata": {
    "tags": []
   },
   "outputs": [
    {
     "name": "stdout",
     "output_type": "stream",
     "text": [
      "Il y avait 970 916 produits, après ce nettoyage il y en a : 783 429.\n",
      "nutriscore_grade : ['a' nan 'd' 'b' 'c' 'e']\n",
      "ecoscore_grade : ['d' nan 'c' 'b' 'e' 'a']\n"
     ]
    }
   ],
   "source": [
    "france_df['ecoscore_grade'] = france_df['ecoscore_grade'].replace(['unknown', 'not-applicable'], np.nan)\n",
    "france_df_without_all_null_quant_var = remove_quant_var_null_values()\n",
    "cols = ['nutriscore_grade', 'ecoscore_grade']\n",
    "for col in cols:\n",
    "    print(f\"{col} : {france_df_without_all_null_quant_var[col].unique()}\")\n"
   ]
  },
  {
   "cell_type": "markdown",
   "id": "3e301b98-71be-42e3-8b5f-8eaa789317aa",
   "metadata": {},
   "source": [
    "Ces deux colonnes sont maintenant uniformes.\n",
    "#### Variables quantitatives\n",
    "Attaquons nous maintenant aux variables quantitatives. Il s'agit des colonnes `['sugars_100g', 'fat_100g', 'saturated-fat_100g', 'sodium_100g', 'carbon-footprint_100g']`. \\\n",
    "Toutes ces variables sont sensées être des proportions sur 100g. Elles ne doivent donc être ni négatives, ni supérieures à 100. Voyons voir la répartition."
   ]
  },
  {
   "cell_type": "code",
   "execution_count": 17,
   "id": "1bc266c9-b63a-4bac-bc2f-5ef69f14e946",
   "metadata": {
    "tags": []
   },
   "outputs": [
    {
     "name": "stdout",
     "output_type": "stream",
     "text": [
      "Value counts for column 'sugars_100g':\n",
      "sugars_100g\n",
      "(-inf, -1e-15]         1\n",
      "(-1e-15, 10.0]    490357\n",
      "(10.0, 20.0]       72912\n",
      "(20.0, 30.0]       52322\n",
      "(30.0, 40.0]       35931\n",
      "(40.0, 50.0]       29350\n",
      "(50.0, 60.0]       31399\n",
      "(60.0, 70.0]       13895\n",
      "(70.0, 80.0]        9400\n",
      "(80.0, 90.0]        4357\n",
      "(90.0, 100.0]       3447\n",
      "(100.0, inf]          19\n",
      "Name: count, dtype: int64\n",
      "\n",
      "Value counts for column 'fat_100g':\n",
      "fat_100g\n",
      "(-inf, -1e-15]         1\n",
      "(-1e-15, 10.0]    408072\n",
      "(10.0, 20.0]      124743\n",
      "(20.0, 30.0]      101141\n",
      "(30.0, 40.0]       57204\n",
      "(40.0, 50.0]       19394\n",
      "(50.0, 60.0]       10417\n",
      "(60.0, 70.0]        3842\n",
      "(70.0, 80.0]        2649\n",
      "(80.0, 90.0]        1852\n",
      "(90.0, 100.0]       9651\n",
      "(100.0, inf]          29\n",
      "Name: count, dtype: int64\n",
      "\n",
      "Value counts for column 'saturated-fat_100g':\n",
      "saturated-fat_100g\n",
      "(-inf, -1e-15]         0\n",
      "(-1e-15, 10.0]    598015\n",
      "(10.0, 20.0]      108156\n",
      "(20.0, 30.0]       31015\n",
      "(30.0, 40.0]        2742\n",
      "(40.0, 50.0]         677\n",
      "(50.0, 60.0]        2133\n",
      "(60.0, 70.0]         262\n",
      "(70.0, 80.0]         103\n",
      "(80.0, 90.0]         281\n",
      "(90.0, 100.0]        394\n",
      "(100.0, inf]           8\n",
      "Name: count, dtype: int64\n",
      "\n",
      "Value counts for column 'sodium_100g':\n",
      "sodium_100g\n",
      "(-inf, -1e-15]         0\n",
      "(-1e-15, 10.0]    698802\n",
      "(10.0, 20.0]        1110\n",
      "(20.0, 30.0]         549\n",
      "(30.0, 40.0]         711\n",
      "(40.0, 50.0]           8\n",
      "(50.0, 60.0]           4\n",
      "(60.0, 70.0]           5\n",
      "(70.0, 80.0]           5\n",
      "(80.0, 90.0]           1\n",
      "(90.0, 100.0]          1\n",
      "(100.0, inf]          22\n",
      "Name: count, dtype: int64\n",
      "\n"
     ]
    }
   ],
   "source": [
    "# define the bins\n",
    "bins = [-float('inf'), -1e-15, 10, 20, 30, 40, 50, 60, 70, 80, 90, 100, float('inf')]\n",
    "\n",
    "for col in ['sugars_100g', 'fat_100g', 'saturated-fat_100g', 'sodium_100g']:\n",
    "    cut_series = pd.cut(france_df_without_all_null_quant_var[col], bins)\n",
    "    value_counts = cut_series.value_counts(sort=False)\n",
    "    print(f\"Value counts for column '{col}':\\n{value_counts}\\n\")"
   ]
  },
  {
   "cell_type": "markdown",
   "id": "0c6f38e8-a6ef-4857-8487-1d3137cb9ebe",
   "metadata": {
    "tags": []
   },
   "source": [
    "En voyant ça, nous allons enlever les valeurs négatives et > 100 à pour ces trois colonnes."
   ]
  },
  {
   "cell_type": "code",
   "execution_count": 31,
   "id": "36d84057-1e12-4820-b980-c5bbdff88678",
   "metadata": {
    "tags": []
   },
   "outputs": [
    {
     "name": "stdout",
     "output_type": "stream",
     "text": [
      "Il y avait 783 429 produits dans la liste, il y en a maintenant : 686 936\n"
     ]
    }
   ],
   "source": [
    "cols = ['sugars_100g', 'fat_100g', 'saturated-fat_100g', 'sodium_100g']\n",
    "mask = (france_df_without_all_null_quant_var[cols] >= 0) & (france_df_without_all_null_quant_var[cols] <= 100)\n",
    "france_df_filtered = france_df_without_all_null_quant_var[mask.all(axis=1)]\n",
    "france_df_without_all_null_quant_var_length = format(len(france_df_without_all_null_quant_var), ',').replace(',', ' ')\n",
    "france_df_filtered_length = format(len(france_df_filtered), ',').replace(',', ' ')\n",
    "print(f\"Il y avait {france_df_without_all_null_quant_var_length} produits dans la liste, il y en a maintenant : {france_df_filtered_length}\")"
   ]
  },
  {
   "cell_type": "markdown",
   "id": "a94eb0d5-cf88-41d3-8dd9-d3e67437eac1",
   "metadata": {},
   "source": [
    "#### Remplissage des données manquantes\n",
    "##### Cas du nutri-score\n",
    "Sur les conseils de mon mentor, je vais tenter d'utiliser la méthode du K-Nearest Neighbour (KNN)"
   ]
  },
  {
   "cell_type": "code",
   "execution_count": 33,
   "id": "d893706e-e08c-4f03-a1d5-ceb00e31d11c",
   "metadata": {
    "tags": []
   },
   "outputs": [
    {
     "ename": "ModuleNotFoundError",
     "evalue": "No module named 'sklearn'",
     "output_type": "error",
     "traceback": [
      "\u001b[0;31m---------------------------------------------------------------------------\u001b[0m",
      "\u001b[0;31mModuleNotFoundError\u001b[0m                       Traceback (most recent call last)",
      "Cell \u001b[0;32mIn[33], line 1\u001b[0m\n\u001b[0;32m----> 1\u001b[0m \u001b[38;5;28;01mfrom\u001b[39;00m \u001b[38;5;21;01msklearn\u001b[39;00m\u001b[38;5;21;01m.\u001b[39;00m\u001b[38;5;21;01mneighbors\u001b[39;00m \u001b[38;5;28;01mimport\u001b[39;00m KNeighborsClassifier\n\u001b[1;32m      2\u001b[0m \u001b[38;5;28;01mfrom\u001b[39;00m \u001b[38;5;21;01msklearn\u001b[39;00m\u001b[38;5;21;01m.\u001b[39;00m\u001b[38;5;21;01mmodel_selection\u001b[39;00m \u001b[38;5;28;01mimport\u001b[39;00m train_test_split\n\u001b[1;32m      3\u001b[0m \u001b[38;5;28;01mfrom\u001b[39;00m \u001b[38;5;21;01msklearn\u001b[39;00m\u001b[38;5;21;01m.\u001b[39;00m\u001b[38;5;21;01mmetrics\u001b[39;00m \u001b[38;5;28;01mimport\u001b[39;00m accuracy_score\n",
      "\u001b[0;31mModuleNotFoundError\u001b[0m: No module named 'sklearn'"
     ]
    }
   ],
   "source": [
    "from sklearn.neighbors import KNeighborsClassifier\n",
    "from sklearn.model_selection import train_test_split\n",
    "from sklearn.metrics import accuracy_score\n",
    "\n"
   ]
  }
 ],
 "metadata": {
  "kernelspec": {
   "display_name": "Python 3 (ipykernel)",
   "language": "python",
   "name": "python3"
  },
  "language_info": {
   "codemirror_mode": {
    "name": "ipython",
    "version": 3
   },
   "file_extension": ".py",
   "mimetype": "text/x-python",
   "name": "python",
   "nbconvert_exporter": "python",
   "pygments_lexer": "ipython3",
   "version": "3.10.6"
  }
 },
 "nbformat": 4,
 "nbformat_minor": 5
}
